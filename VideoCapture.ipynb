{
 "cells": [
  {
   "cell_type": "code",
   "execution_count": 1,
   "id": "a368aa83-d636-444c-aa24-54b0da56ea91",
   "metadata": {},
   "outputs": [],
   "source": [
    "import cv2\n",
    "import numpy as np"
   ]
  },
  {
   "cell_type": "code",
   "execution_count": 3,
   "id": "5d6db3ba-8716-48c1-8ea2-64e85ae282f1",
   "metadata": {},
   "outputs": [],
   "source": [
    "vid=cv2.VideoCapture(r\"C:\\Users\\ADMIN\\Downloads\\WhatsApp Video 2024-11-28 at 08.52.00_08420772.mp4\")\n",
    "\n",
    "# if the image orframe is present the vid.read() will give you the particular image as well as give you BOOLen value\n",
    "\n",
    "while True:\n",
    "    succ,img=vid.read()\n",
    "\n",
    "    if succ==False:\n",
    "        break\n",
    "    img1=cv2.cvtColor(img,cv2.COLOR_BGR2GRAY)\n",
    "    cv2.imshow(\"video_color\",img)\n",
    "    cv2.imshow(\"VIDEO_gray\",img1)\n",
    "\n",
    "    if cv2.waitKey(1) & 255 == ord(\"n\"):               # the cv2.waitKey will do always return -1 if the the user don't give the input from keyboard or mouse\n",
    "        break\n",
    "\n",
    "cv2.destroyAllWindows()"
   ]
  },
  {
   "cell_type": "code",
   "execution_count": 5,
   "id": "2971a26c-7550-465b-b9a2-ef39e3ae3625",
   "metadata": {},
   "outputs": [
    {
     "data": {
      "text/plain": [
       "-1"
      ]
     },
     "execution_count": 5,
     "metadata": {},
     "output_type": "execute_result"
    }
   ],
   "source": [
    "cv2.waitKey(1)"
   ]
  },
  {
   "cell_type": "code",
   "execution_count": 7,
   "id": "61bf74af-47ef-4394-90c8-8f254a1432e1",
   "metadata": {},
   "outputs": [],
   "source": [
    "img=cv2.imread(r\"C:\\Users\\ADMIN\\Downloads\\pikachu.jpg\")     # here only we can convert gray sacle or bgr"
   ]
  },
  {
   "cell_type": "code",
   "execution_count": 9,
   "id": "0d4f9c6d-4721-4acb-886b-5a2073753e75",
   "metadata": {},
   "outputs": [
    {
     "data": {
      "text/plain": [
       "array([[[255, 255, 255],\n",
       "        [255, 255, 255],\n",
       "        [255, 255, 255],\n",
       "        ...,\n",
       "        [255, 255, 255],\n",
       "        [255, 255, 255],\n",
       "        [255, 255, 255]],\n",
       "\n",
       "       [[255, 255, 255],\n",
       "        [255, 255, 255],\n",
       "        [255, 255, 255],\n",
       "        ...,\n",
       "        [255, 255, 255],\n",
       "        [255, 255, 255],\n",
       "        [255, 255, 255]],\n",
       "\n",
       "       [[255, 255, 255],\n",
       "        [255, 255, 255],\n",
       "        [255, 255, 255],\n",
       "        ...,\n",
       "        [255, 255, 255],\n",
       "        [255, 255, 255],\n",
       "        [255, 255, 255]],\n",
       "\n",
       "       ...,\n",
       "\n",
       "       [[255, 255, 255],\n",
       "        [255, 255, 255],\n",
       "        [255, 255, 255],\n",
       "        ...,\n",
       "        [255, 255, 255],\n",
       "        [255, 255, 255],\n",
       "        [255, 255, 255]],\n",
       "\n",
       "       [[255, 255, 255],\n",
       "        [255, 255, 255],\n",
       "        [255, 255, 255],\n",
       "        ...,\n",
       "        [255, 255, 255],\n",
       "        [255, 255, 255],\n",
       "        [255, 255, 255]],\n",
       "\n",
       "       [[255, 255, 255],\n",
       "        [255, 255, 255],\n",
       "        [255, 255, 255],\n",
       "        ...,\n",
       "        [255, 255, 255],\n",
       "        [255, 255, 255],\n",
       "        [255, 255, 255]]], dtype=uint8)"
      ]
     },
     "execution_count": 9,
     "metadata": {},
     "output_type": "execute_result"
    }
   ],
   "source": [
    "img   # when you have image in array formate if we want to convert the color space of given array then we can go back to opencv and we can use a function.in cv2 there is fi=unction is called cv2.cvtOlor,the functionality of this function is to change the color space of the image"
   ]
  },
  {
   "cell_type": "code",
   "execution_count": 11,
   "id": "0ee14595-84b6-4170-82d4-4e7880f0f318",
   "metadata": {},
   "outputs": [],
   "source": [
    "img1=cv2.cvtColor(img,cv2.COLOR_BGR2GRAY)"
   ]
  },
  {
   "cell_type": "code",
   "execution_count": 13,
   "id": "65a3e144-10c3-4400-9002-98f3479a0039",
   "metadata": {},
   "outputs": [
    {
     "data": {
      "text/plain": [
       "(217, 232, 3)"
      ]
     },
     "execution_count": 13,
     "metadata": {},
     "output_type": "execute_result"
    }
   ],
   "source": [
    "img.shape"
   ]
  },
  {
   "cell_type": "code",
   "execution_count": 15,
   "id": "e1029279-90d8-4a2d-a81b-2b502380a68a",
   "metadata": {},
   "outputs": [
    {
     "data": {
      "text/plain": [
       "(217, 232)"
      ]
     },
     "execution_count": 15,
     "metadata": {},
     "output_type": "execute_result"
    }
   ],
   "source": [
    "img1.shape"
   ]
  },
  {
   "cell_type": "code",
   "execution_count": 17,
   "id": "bf8f19ef-f86f-4189-be27-f99e237bcb33",
   "metadata": {},
   "outputs": [],
   "source": [
    "cv2.imshow(\"col\",img)\n",
    "cv2.imshow(\"gray\",img1)\n",
    "cv2.waitKey()\n",
    "cv2.destroyAllWindows()"
   ]
  },
  {
   "cell_type": "code",
   "execution_count": 19,
   "id": "82205d12-47f8-423b-a901-8348be4d0b4b",
   "metadata": {},
   "outputs": [],
   "source": [
    "vid=cv2.VideoCapture(r\"C:\\Users\\ADMIN\\Downloads\\WhatsApp Video 2024-11-28 at 08.52.00_08420772.mp4\")\n",
    "\n",
    "\n",
    "\n",
    "while True:\n",
    "    if succ==False:\n",
    "        break\n",
    "    b,g,r=cv2.split(img)\n",
    "    z=np.zeros(b.shape,dtype=np.uint8)\n",
    "\n",
    "    \n",
    "    cv2.imshow(\"blue_channel\",cv2.merge([b,z,z]))\n",
    "    cv2.imshow(\"green_channel\",cv2.merge([z,g,z]))\n",
    "    cv2.imshow(\"red_channel\",cv2.merge([z,z,r]))          \n",
    "    cv2.imshow(\"VIDEO_gray\",img1)\n",
    "\n",
    "    if cv2.waitKey(1) & 255 == ord(\"n\"):\n",
    "               break\n",
    "\n",
    "cv2.destroyAllWindows()"
   ]
  },
  {
   "cell_type": "code",
   "execution_count": 21,
   "id": "db17e9a1-1486-4a71-bee8-d2174c71f057",
   "metadata": {},
   "outputs": [],
   "source": [
    "import os"
   ]
  },
  {
   "cell_type": "code",
   "execution_count": 25,
   "id": "fc592c63-81b9-45c1-bfbf-a794d18333a5",
   "metadata": {},
   "outputs": [
    {
     "data": {
      "text/plain": [
       "['cat', 'CAT.mp4', 'dog', 'DOG.mp4', 'ele', 'Elephant.mp4']"
      ]
     },
     "execution_count": 25,
     "metadata": {},
     "output_type": "execute_result"
    }
   ],
   "source": [
    "os.listdir(r\"C:\\Users\\ADMIN\\Downloads\\dog_cat_elephant\")"
   ]
  },
  {
   "cell_type": "code",
   "execution_count": 27,
   "id": "251595d9-7679-445e-9192-dc961e0a1479",
   "metadata": {},
   "outputs": [],
   "source": [
    "l=[]\n",
    "for y in os.listdir(r\"C:\\Users\\ADMIN\\Downloads\\dog_cat_elephant\"):\n",
    "    if y.endswith(\".mp4\"):\n",
    "        l.append(y)"
   ]
  },
  {
   "cell_type": "code",
   "execution_count": 29,
   "id": "3fbd9064-e8ee-464a-8332-0ba68c3c50ae",
   "metadata": {},
   "outputs": [
    {
     "data": {
      "text/plain": [
       "['CAT.mp4', 'DOG.mp4', 'Elephant.mp4']"
      ]
     },
     "execution_count": 29,
     "metadata": {},
     "output_type": "execute_result"
    }
   ],
   "source": [
    "l"
   ]
  },
  {
   "cell_type": "code",
   "execution_count": 31,
   "id": "5e12e838-6b9d-45f9-bfc2-78672acc0911",
   "metadata": {},
   "outputs": [
    {
     "data": {
      "text/plain": [
       "'CAT'"
      ]
     },
     "execution_count": 31,
     "metadata": {},
     "output_type": "execute_result"
    }
   ],
   "source": [
    "l[0].split(\".\")[0]"
   ]
  },
  {
   "cell_type": "code",
   "execution_count": 33,
   "id": "eb920843-11e6-4a3b-9460-6d87eedd3e36",
   "metadata": {},
   "outputs": [],
   "source": [
    "for video in l:\n",
    "    vid=cv2.VideoCapture(r\"C:\\Users\\ADMIN\\Downloads\\dog_cat_elephant\\{}\".format(video))\n",
    "    c=0\n",
    "    while True:\n",
    "        succ,img=vid.read()\n",
    "\n",
    "        if succ==False:\n",
    "            break\n",
    "        cv2.imwrite(r\"C:\\Users\\ADMIN\\Downloads\\dog_cat_elephant\\{}\\{}{}.jpg\".format(video.split(\".\")[0],video.split(\".\")[0],c),img)\n",
    "        c=c+1\n",
    "        cv2.imshow(\"vid\",img)\n",
    "        if cv2.waitKey(1) & 255 == ord(\"q\"):\n",
    "            break\n",
    "\n",
    "    cv2.destroyAllWindows()"
   ]
  },
  {
   "cell_type": "code",
   "execution_count": 35,
   "id": "bc9dfb3a-113f-49dc-990a-f31173905444",
   "metadata": {},
   "outputs": [],
   "source": [
    "vid=cv2.VideoCapture(0)     # when we use 0 that means your web camera open from that point camera is capturing\n",
    "# id 0 ---- default web camera\n",
    "\n",
    "\n",
    "while True:\n",
    "    suc,img=vid.read()\n",
    "\n",
    "    if suc==False:\n",
    "        print(\"camera not working\")\n",
    "        break\n",
    "        \n",
    "    cv2.imshow(\"live stream\",img)\n",
    "\n",
    "    img1=cv2.cvtColor(img,cv2.COLOR_BGR2GRAY)\n",
    "\n",
    "    cv2.imshow(\"live stream2\",img1)\n",
    "\n",
    "    if cv2.waitKey(300) & 255 == ord(\"w\"):\n",
    "        break\n",
    "\n",
    "cv2.destroyAllWindows()"
   ]
  },
  {
   "cell_type": "code",
   "execution_count": 37,
   "id": "976eae79-0585-4276-938a-c67f537d14b6",
   "metadata": {},
   "outputs": [],
   "source": [
    "vid=cv2.VideoCapture(0)\n",
    "\n",
    "while True:\n",
    "    suc,img=vid.read()\n",
    "    \n",
    "    if suc==False:\n",
    "        print(\"camera not working\")\n",
    "        break\n",
    "\n",
    "    b,g,r=cv2.split(img)\n",
    "    z=np.zeros(b.shape,dtype=np.uint8)\n",
    "        \n",
    "    cv2.imshow(\"live stream1\",img)\n",
    "    cv2.imshow(\"live stream2\",cv2.merge([b,z,z]))\n",
    "    cv2.imshow(\"live stream3\",cv2.merge([z,g,z]))\n",
    "    cv2.imshow(\"live stream4\",cv2.merge([z,z,r]))\n",
    "\n",
    "    if cv2.waitKey(300) & 255 == ord(\"w\"):\n",
    "        break\n",
    "\n",
    "cv2.destroyAllWindows()"
   ]
  },
  {
   "cell_type": "code",
   "execution_count": 41,
   "id": "ea57cdfa-9aa5-4071-9470-c71a6fb51034",
   "metadata": {},
   "outputs": [
    {
     "name": "stdout",
     "output_type": "stream",
     "text": [
      "image have been captured\n",
      "image have been captured\n",
      "image have been captured\n",
      "image have been captured\n",
      "image have been captured\n"
     ]
    }
   ],
   "source": [
    "vid=cv2.VideoCapture(0)\n",
    "c=0\n",
    "while True:\n",
    "    suc,img=vid.read()\n",
    "    \n",
    "    if suc==False:\n",
    "        print(\"camera not working\")\n",
    "        break\n",
    "\n",
    "    cv2.imshow(\"video\",img)\n",
    "    if cv2.waitKey(1) & 255 == ord(\"s\"):\n",
    "        cv2.imwrite(r\"C:\\Users\\ADMIN\\Downloads\\hand_sign\\{}.jpg\".format(c),img)\n",
    "        print(\"image have been captured\")\n",
    "        c+=1\n",
    "\n",
    "    if cv2.waitKey(1) & 255 == ord(\"c\"):\n",
    "        break\n",
    "\n",
    "cv2.destroyAllWindows()"
   ]
  },
  {
   "cell_type": "markdown",
   "id": "b203fe11-9caa-40ee-a11e-963af345410b",
   "metadata": {},
   "source": [
    "# cropping tool"
   ]
  },
  {
   "cell_type": "code",
   "execution_count": 44,
   "id": "3495868e-3703-4432-a396-ba5a70ce0327",
   "metadata": {},
   "outputs": [],
   "source": [
    "x1=-1\n",
    "y1=-1\n",
    "def mouse_tracking(event,x,y,flags,param):\n",
    "    global x1,y1\n",
    "    if event==1:\n",
    "        x1=x\n",
    "        y1=y\n",
    "        \n",
    "    if event==4:\n",
    "        cv2.rectangle(img,(x1,y1),(x,y),(0,0,255),2)\n",
    "\n",
    "        cv2.imshow(\"cropped img\",img[y1:y,x1:x])\n",
    "        if cv2.waitKey(1) & 255 ==ord(\"r\"):\n",
    "            pass"
   ]
  },
  {
   "cell_type": "code",
   "execution_count": null,
   "id": "128cbf0d-2c54-4dd2-a40a-5ded291618cf",
   "metadata": {},
   "outputs": [],
   "source": [
    "cv2.namedWindow(\"mouse tracking\")\n",
    "\n",
    "cv2.setMouseCallback(\"mouse tracking\",mouse_tracking)\n",
    "\n",
    "vid=cv2.VideoCapture(0)\n",
    "c=0\n",
    "while True:\n",
    "    su,img=vid.read()\n",
    "    \n",
    "    cv2.imshow(\"mouse tracking\",img)\n",
    "    \n",
    "    if cv2.waitKey(1) & 255==ord(\"q\"):\n",
    "        break\n",
    "        \n",
    "cv2.destroyAllWindows()"
   ]
  },
  {
   "cell_type": "code",
   "execution_count": null,
   "id": "88cf277a-7601-438b-974f-27c2a6db1b33",
   "metadata": {},
   "outputs": [],
   "source": []
  }
 ],
 "metadata": {
  "kernelspec": {
   "display_name": "Python 3 (ipykernel)",
   "language": "python",
   "name": "python3"
  },
  "language_info": {
   "codemirror_mode": {
    "name": "ipython",
    "version": 3
   },
   "file_extension": ".py",
   "mimetype": "text/x-python",
   "name": "python",
   "nbconvert_exporter": "python",
   "pygments_lexer": "ipython3",
   "version": "3.11.7"
  }
 },
 "nbformat": 4,
 "nbformat_minor": 5
}
